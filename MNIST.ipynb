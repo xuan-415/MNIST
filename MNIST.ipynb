{
  "nbformat": 4,
  "nbformat_minor": 0,
  "metadata": {
    "colab": {
      "provenance": [],
      "collapsed_sections": [],
      "authorship_tag": "ABX9TyMQJ5u7+UZyovYhCLBE9EH8",
      "include_colab_link": true
    },
    "kernelspec": {
      "name": "python3",
      "display_name": "Python 3"
    },
    "language_info": {
      "name": "python"
    },
    "accelerator": "GPU"
  },
  "cells": [
    {
      "cell_type": "markdown",
      "metadata": {
        "id": "view-in-github",
        "colab_type": "text"
      },
      "source": [
        "<a href=\"https://colab.research.google.com/github/xuan-415/MNIST/blob/main/MNIST.ipynb\" target=\"_parent\"><img src=\"https://colab.research.google.com/assets/colab-badge.svg\" alt=\"Open In Colab\"/></a>"
      ]
    },
    {
      "cell_type": "code",
      "execution_count": null,
      "metadata": {
        "id": "5Yezs-fTE941",
        "colab": {
          "base_uri": "https://localhost:8080/",
          "height": 1000
        },
        "outputId": "3c6530df-b603-45c2-9753-9e6171632f5f"
      },
      "outputs": [
        {
          "output_type": "stream",
          "name": "stdout",
          "text": [
            "[[-742151.13339207  153845.06683298 -264806.46560462 -135196.65492281\n",
            "  -459999.33537663 -223274.91110086 -279465.62421869 -221549.88261119\n",
            "  -272375.14926004 -100547.9389427 ]]\n"
          ]
        },
        {
          "output_type": "display_data",
          "data": {
            "text/plain": [
              "<Figure size 432x288 with 1 Axes>"
            ],
            "image/png": "[encoded data removed]"
          },
          "metadata": {
            "needs_background": "light"
          }
        },
        {
          "output_type": "stream",
          "name": "stdout",
          "text": [
            "Prediction was [ True]\n",
            "[0.9124  0.91005 0.90925]\n",
            "Accuracy score after training on augmented dataset 0.9175\n",
            "confusion matrix : \n",
            "[[5743    2   15    9    9   42   42   10   47    4]\n",
            " [   2 6484   42   24    6   43    5   10  115   11]\n",
            " [  59   39 5320   97   83   23   90   68  166   13]\n",
            " [  45   37  126 5342    2  236   36   60  157   90]\n",
            " [  21   25   33    9 5379   11   57   33   87  187]\n",
            " [  64   36   35  191   77 4612  110   27  192   77]\n",
            " [  34   28   43    2   46   90 5618    8   49    0]\n",
            " [  24   22   62   30   61   11    6 5827   20  202]\n",
            " [  49  143   61  144   13  166   57   27 5087  104]\n",
            " [  43   31   30   90  168   40    3  233   89 5222]]\n"
          ]
        },
        {
          "output_type": "display_data",
          "data": {
            "text/plain": [
              "<Figure size 288x288 with 1 Axes>"
            ],
            "image/png": "[encoded data removed]"
          },
          "metadata": {
            "needs_background": "light"
          }
        },
        {
          "output_type": "display_data",
          "data": {
            "text/plain": [
              "<Figure size 288x288 with 1 Axes>"
            ],
            "image/png": "[encoded data removed]"
          },
          "metadata": {
            "needs_background": "light"
          }
        },
        {
          "output_type": "stream",
          "name": "stdout",
          "text": [
            "Downloading data from https://storage.googleapis.com/tensorflow/tf-keras-datasets/train-labels-idx1-ubyte.gz\n",
            "29515/29515 [==============================] - 0s 0us/step\n",
            "Downloading data from https://storage.googleapis.com/tensorflow/tf-keras-datasets/train-images-idx3-ubyte.gz\n",
            "26421880/26421880 [==============================] - 0s 0us/step\n",
            "Downloading data from https://storage.googleapis.com/tensorflow/tf-keras-datasets/t10k-labels-idx1-ubyte.gz\n",
            "5148/5148 [==============================] - 0s 0us/step\n",
            "Downloading data from https://storage.googleapis.com/tensorflow/tf-keras-datasets/t10k-images-idx3-ubyte.gz\n",
            "4422102/4422102 [==============================] - 0s 0us/step\n",
            "[[-1161585.28995879  -505173.96599425  -608430.11647525  -479845.73016393\n",
            "   -374408.26587325  -388914.74569969  -677652.57836559 -1254671.03526936\n",
            "    595571.11890213 -2116626.464659  ]]\n"
          ]
        },
        {
          "output_type": "display_data",
          "data": {
            "text/plain": [
              "<Figure size 432x288 with 1 Axes>"
            ],
            "image/png": "[encoded data removed]"
          },
          "metadata": {
            "needs_background": "light"
          }
        },
        {
          "output_type": "stream",
          "name": "stdout",
          "text": [
            "Prediction was [ True]\n",
            "[0.83405 0.8333  0.8347 ]\n"
          ]
        }
      ],
      "source": [
        "from keras.datasets import mnist\n",
        "import matplotlib.pyplot as plt \n",
        "import numpy as np\n",
        "from sklearn.linear_model import SGDClassifier\n",
        "from sklearn.model_selection import cross_val_score\n",
        "from sklearn.model_selection import cross_val_predict\n",
        "from sklearn.metrics import confusion_matrix\n",
        "import pandas as pd \n",
        "from keras.utils import np_utils\n",
        "from scipy.ndimage.interpolation import shift\n",
        "import keras\n",
        "from keras.datasets import fashion_mnist\n",
        "from sklearn.svm import SVC\n",
        "import os\n",
        "from sklearn.preprocessing import StandardScaler\n",
        "from sklearn.ensemble import RandomForestClassifier\n",
        "from sklearn.metrics import accuracy_score\n",
        "\n",
        "\n",
        "# 第一題 The MNIST dataset\n",
        "\n",
        "# #load資料\n",
        "(x_train_image, y_train_label), (x_test_image, y_test_label) = mnist.load_data()\n",
        "\n",
        "# print('train data=', len(x_train_image))\n",
        "# print('test data=', len(x_test_image))\n",
        "# print('x_train_image :', x_train_image.shape) # x_train_image : (60000, 28, 28)\n",
        "# print('y_train_label :', y_train_label.shape) # 共60000張圖片資料，圖片像素28*28\n",
        "\n",
        "\n",
        "# # 建立plot_image函數，顯示images數字影像\n",
        "# def plot_image(image):\n",
        "#     fig = plt.gcf() # 設定顯示圖形的大小\n",
        "#     fig.set_size_inches(2,2)\n",
        "#     plt.imshow(image, cmap='binary') # camp=\"binary\"表示以黑白色顯示\n",
        "#     plt.show()\n",
        "\n",
        "# def plot_images_labels(images, labels, idx, num = 10):\n",
        "#     fig = plt.gcf() # 設定顯示圖形的大小\n",
        "#     fig.set_size_inches(12, 14)\n",
        "#     if num > 25: num = 25 # 如果顯示筆數參數大於25鎖定在25，避免輸出時發生錯誤\n",
        "#     for i in range(0, num): \n",
        "#         ax = plt.subplot(5, 5, 1+i) # 建立subgraph子圖形為5行5列\n",
        "#         ax.imshow(images[idx], cmap='binary') # 劃出subgraph子圖形\n",
        "#         title = \"label=\" + str(labels[idx]) # 設定子圖形的title，顯示標籤欄\n",
        "#         ax.set_title(title, fontsize = 10) # 子圖形的標題tilte與大小\n",
        "#         ax.set_xticks([]);ax.set_yticks([]) # 設定不顯示刻度\n",
        "#         idx += 1 # 讀取下一筆\n",
        "#     plt.show()\n",
        "\n",
        "\n",
        "\n",
        "# # #顯示圖片\n",
        "# # # plot_image(x_train_image[1])\n",
        "# # # plot_images_labels(x_train_image, y_train_label, idx=0)\n",
        "# # #----------------------------------------------------------\n",
        "\n",
        "# # #資料預處理 (features)\n",
        "x_Train = x_train_image.reshape(60000, 28*28).astype('float32') \n",
        "x_Test = x_test_image.reshape(10000, 28*28).astype('float32')\n",
        "# # #----------------------------------------------------------\n",
        "\n",
        "# # #查看轉換為1維向量的shape\n",
        "# # print('x_train:', x_Train.shape)\n",
        "# # print('x_train:', x_Test.shape)\n",
        "\n",
        "# 1. Use SGDClassifier for the MNIST dataset and measure the accuracy (the ratio of correct predictions) using cross-validation (cv=3).\n",
        "shuffle_index = np.random.permutation(60000)\n",
        "x_train, y_train = x_Train[shuffle_index],y_train_label[shuffle_index]\n",
        "sgd_clf = SGDClassifier(max_iter=5, tol=-np.infty, random_state=10)\n",
        "sgd_clf.fit(x_train, y_train)\n",
        "\n",
        "rand_index = np.random.choice(x_Test.shape[0])\n",
        "pred = sgd_clf.predict(x_Test[rand_index].reshape(1, -1))\n",
        "print(sgd_clf.decision_function(x_Test[rand_index].reshape(1, -1)))\n",
        "\n",
        "plt.imshow(x_Test[rand_index].reshape(28, 28))\n",
        "plt.axis('off')\n",
        "plt.title(y_test_label[rand_index])\n",
        "plt.show()\n",
        "print('Prediction was', pred == y_test_label[rand_index])\n",
        "scaler = StandardScaler()\n",
        "X_train_scaled = scaler.fit_transform(x_train.astype(np.float64))\n",
        "print(cross_val_score(sgd_clf, X_train_scaled, y_train, cv=3, scoring='accuracy'))\n",
        "\n",
        "#____________________________________________________________________________________\n",
        "\n",
        "# 2. Using Data Augmentation (artificially growing the training set) to see if the accuracy can be improved\n",
        "\n",
        "def shift_digit(digit_array, dx, dy, new=0):\n",
        "  return shift(digit_array.reshape(28, 28), [dy, dx], cval=new).reshape(784)\n",
        "\n",
        "x_train_expanded = [x_Train]\n",
        "y_train_expanded = [y_train_label]\n",
        "\n",
        "for dx, dy in ((1, 0), (-1, 0), (0, 1), (0, -1)):\n",
        "  shifted_images = np.apply_along_axis(shift_digit, axis=1, arr=x_train, dx=dx, dy=dy)\n",
        "  x_train_expanded.append(shifted_images)\n",
        "  y_train_expanded.append(y_train_label)\n",
        "\n",
        "x_train_expanded = np.concatenate(x_train_expanded)\n",
        "y_train_expanded = np.concatenate(y_train_expanded)\n",
        " \n",
        "rf_clf_for_augmented = RandomForestClassifier(random_state=42)\n",
        "rf_clf_for_augmented.fit(x_train_expanded, y_train_expanded)\n",
        "\n",
        "y_pred_after_augmented = rf_clf_for_augmented.predict(x_Test)\n",
        "score = accuracy_score(y_test_label, y_pred_after_augmented)\n",
        "print(\"Accuracy score after training on augmented dataset\", score)\n",
        "\n",
        "#____________________________________________________________________________________\n",
        "\n",
        "y_TestOneHot = np_utils.to_categorical(y_test_label)\n",
        "y_TrainOneHot = np_utils.to_categorical(y_train_label)\n",
        "\n",
        "# 3. Is there any technique (such as normalization or hyperparameter tuning forSGDClassifier) that can further improve the performance?\n",
        "x_Train_normalization = x_Train / 255.0\n",
        "x_Test_normalization = x_Test / 255.0\n",
        "\n",
        "\n",
        "#____________________________________________________________________________________\n",
        "\n",
        "# 4. Using the confusion matrix to gain insights for performance evaluation/comparison\n",
        "\n",
        "print('confusion matrix : ')\n",
        "y_train_pred = cross_val_predict(sgd_clf, X_train_scaled, y_train, cv=3)\n",
        "conf_mx = confusion_matrix(y_train, y_train_pred)\n",
        "print(conf_mx)\n",
        "plt.matshow(conf_mx, cmap=plt.cm.gray)\n",
        "plt.show()\n",
        "row_sums = conf_mx.sum(axis=1, keepdims=True)\n",
        "norm_conf_mx = conf_mx / row_sums\n",
        "np.fill_diagonal(norm_conf_mx, 0)\n",
        "plt.matshow(norm_conf_mx, cmap=plt.cm.gray)\n",
        "plt.show()\n",
        "\n",
        "#____________________________________________________________________________________\n",
        "\n",
        "# 第二題 The Fashion MNIST dataset\n",
        "\n",
        "import keras\n",
        "from keras.datasets import fashion_mnist\n",
        "(x_train, y_train), (x_test, y_test) = fashion_mnist.load_data()\n",
        "\n",
        "label = ['T-shirt/top', 'Trouser', 'Pullover', 'Dress', 'Coat', 'Sandal', \n",
        "         'Shirt', 'Sneaker', 'Bag', 'Ankle boot']\n",
        "\n",
        "# # # 建立plot_image函數，顯示images數字影像\n",
        "# # def plot_image(image):\n",
        "# #     fig = plt.gcf() # 設定顯示圖形的大小\n",
        "# #     fig.set_size_inches(2,2)\n",
        "# #     plt.imshow(image, cmap='binary') # camp=\"binary\"表示以黑白色顯示\n",
        "# #     plt.show()\n",
        "\n",
        "# # def plot_images_labels(images, labels, idx, num = 10):\n",
        "# #     fig = plt.gcf() # 設定顯示圖形的大小\n",
        "# #     fig.set_size_inches(12, 14)\n",
        "# #     if num > 25: num = 25 # 如果顯示筆數參數大於25鎖定在25，避免輸出時發生錯誤\n",
        "# #     for i in range(0, num): \n",
        "# #         ax = plt.subplot(5, 5, 1+i) # 建立subgraph子圖形為5行5列\n",
        "# #         ax.imshow(images[idx], cmap='binary') # 劃出subgraph子圖形\n",
        "# #         title = str(label[idx]) # 設定子圖形的title，顯示標籤欄\n",
        "# #         ax.set_title(title, fontsize = 10) # 子圖形的標題tilte與大小\n",
        "# #         ax.set_xticks([]);ax.set_yticks([]) # 設定不顯示刻度\n",
        "# #         idx += 1 # 讀取下一筆\n",
        "# #     plt.show()\n",
        "\n",
        "# # plot_image(x_train[1])\n",
        "# # plot_images_labels(x_train, y_train, idx=0)\n",
        "\n",
        "x_Train = x_train.reshape(60000, 28*28).astype('float32') \n",
        "x_Test = x_test.reshape(10000, 28*28).astype('float32')\n",
        "\n",
        "# 1. Use the Fashion MNIST dataset as the target for classification and repeat steps in Part 1.\n",
        "\n",
        "shuffle_index = np.random.permutation(60000)\n",
        "x_train, y_train = x_Train[shuffle_index],y_train[shuffle_index]\n",
        "sgd_clf = SGDClassifier(max_iter=5, tol=-np.infty, random_state=10)\n",
        "sgd_clf.fit(x_train, y_train)\n",
        "\n",
        "rand_index = np.random.choice(x_Test.shape[0])\n",
        "pred = sgd_clf.predict(x_Test[rand_index].reshape(1, -1))\n",
        "print(sgd_clf.decision_function(x_Test[rand_index].reshape(1, -1)))\n",
        "plt.imshow(x_Test[rand_index].reshape(28, 28))\n",
        "plt.axis('off')\n",
        "plt.title(label[y_test[rand_index]])\n",
        "plt.show()\n",
        "print('Prediction was', pred == y_test[rand_index])\n",
        "scaler = StandardScaler()\n",
        "X_train_scaled = scaler.fit_transform(x_train.astype(np.float64))\n",
        "print(cross_val_score(sgd_clf, X_train_scaled, y_train, cv=3, scoring='accuracy'))\n",
        "\n",
        "#____________________________________________________________________________________\n",
        "\n",
        "# Part2 Is there any technique (such as normalization or hyperparameter tuning for SGDClassifier) that can further improve the performance?\n",
        "\n",
        "X_Train_normalization = x_train / 255\n",
        "X_Test_normalization = x_train / 255\n",
        "\n",
        "#____________________________________________________________________________________\n",
        "\n",
        "# 3. Compare SGDClassifier’s performance on the two datasets."
      ]
    }
  ]
}